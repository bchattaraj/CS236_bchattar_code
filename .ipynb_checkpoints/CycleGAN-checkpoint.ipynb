{
 "cells": [
  {
   "cell_type": "markdown",
   "metadata": {
    "colab_type": "text",
    "id": "view-in-github"
   },
   "source": [
    "<a href=\"https://colab.research.google.com/github/bkkaggle/pytorch-CycleGAN-and-pix2pix/blob/master/CycleGAN.ipynb\" target=\"_parent\"><img src=\"https://colab.research.google.com/assets/colab-badge.svg\" alt=\"Open In Colab\"/></a>"
   ]
  },
  {
   "cell_type": "markdown",
   "metadata": {
    "colab_type": "text",
    "id": "5VIGyIus8Vr7"
   },
   "source": [
    "Take a look at the [repository](https://github.com/junyanz/pytorch-CycleGAN-and-pix2pix) for more information"
   ]
  },
  {
   "cell_type": "markdown",
   "metadata": {
    "colab_type": "text",
    "id": "7wNjDKdQy35h"
   },
   "source": [
    "# Install"
   ]
  },
  {
   "cell_type": "code",
   "execution_count": null,
   "metadata": {
    "colab": {},
    "colab_type": "code",
    "id": "TRm-USlsHgEV"
   },
   "outputs": [],
   "source": [
    "!git clone https://github.com/junyanz/pytorch-CycleGAN-and-pix2pix"
   ]
  },
  {
   "cell_type": "code",
   "execution_count": null,
   "metadata": {
    "colab": {},
    "colab_type": "code",
    "id": "Pt3igws3eiVp"
   },
   "outputs": [],
   "source": [
    "import os\n",
    "os.chdir('pytorch-CycleGAN-and-pix2pix/')"
   ]
  },
  {
   "cell_type": "code",
   "execution_count": 1,
   "metadata": {
    "colab": {},
    "colab_type": "code",
    "id": "z1EySlOXwwoa"
   },
   "outputs": [
    {
     "name": "stdout",
     "output_type": "stream",
     "text": [
      "Requirement already satisfied: torch>=1.4.0 in c:\\users\\bchat\\anaconda3\\envs\\cs236_project_test\\lib\\site-packages (from -r requirements.txt (line 1)) (1.10.0)\n",
      "Requirement already satisfied: torchvision>=0.5.0 in c:\\users\\bchat\\anaconda3\\envs\\cs236_project_test\\lib\\site-packages (from -r requirements.txt (line 2)) (0.11.1)\n",
      "Requirement already satisfied: dominate>=2.4.0 in c:\\users\\bchat\\anaconda3\\envs\\cs236_project_test\\lib\\site-packages (from -r requirements.txt (line 3)) (2.6.0)\n",
      "Requirement already satisfied: visdom>=0.1.8.8 in c:\\users\\bchat\\anaconda3\\envs\\cs236_project_test\\lib\\site-packages (from -r requirements.txt (line 4)) (0.1.8.9)\n",
      "Requirement already satisfied: wandb in c:\\users\\bchat\\anaconda3\\envs\\cs236_project_test\\lib\\site-packages (from -r requirements.txt (line 5)) (0.12.7)\n",
      "Requirement already satisfied: typing_extensions in c:\\users\\bchat\\anaconda3\\envs\\cs236_project_test\\lib\\site-packages (from torch>=1.4.0->-r requirements.txt (line 1)) (3.10.0.2)\n",
      "Requirement already satisfied: numpy in c:\\users\\bchat\\anaconda3\\envs\\cs236_project_test\\lib\\site-packages (from torchvision>=0.5.0->-r requirements.txt (line 2)) (1.21.4)\n",
      "Requirement already satisfied: pillow!=8.3.0,>=5.3.0 in c:\\users\\bchat\\anaconda3\\envs\\cs236_project_test\\lib\\site-packages (from torchvision>=0.5.0->-r requirements.txt (line 2)) (8.4.0)\n",
      "Requirement already satisfied: six in c:\\users\\bchat\\anaconda3\\envs\\cs236_project_test\\lib\\site-packages (from visdom>=0.1.8.8->-r requirements.txt (line 4)) (1.16.0)\n",
      "Requirement already satisfied: pyzmq in c:\\users\\bchat\\anaconda3\\envs\\cs236_project_test\\lib\\site-packages (from visdom>=0.1.8.8->-r requirements.txt (line 4)) (22.2.1)\n",
      "Requirement already satisfied: jsonpatch in c:\\users\\bchat\\anaconda3\\envs\\cs236_project_test\\lib\\site-packages (from visdom>=0.1.8.8->-r requirements.txt (line 4)) (1.32)\n",
      "Requirement already satisfied: scipy in c:\\users\\bchat\\anaconda3\\envs\\cs236_project_test\\lib\\site-packages (from visdom>=0.1.8.8->-r requirements.txt (line 4)) (1.7.3)\n",
      "Requirement already satisfied: requests in c:\\users\\bchat\\anaconda3\\envs\\cs236_project_test\\lib\\site-packages (from visdom>=0.1.8.8->-r requirements.txt (line 4)) (2.26.0)\n",
      "Requirement already satisfied: tornado in c:\\users\\bchat\\anaconda3\\envs\\cs236_project_test\\lib\\site-packages (from visdom>=0.1.8.8->-r requirements.txt (line 4)) (6.1)\n",
      "Requirement already satisfied: websocket-client in c:\\users\\bchat\\anaconda3\\envs\\cs236_project_test\\lib\\site-packages (from visdom>=0.1.8.8->-r requirements.txt (line 4)) (1.2.1)\n",
      "Requirement already satisfied: torchfile in c:\\users\\bchat\\anaconda3\\envs\\cs236_project_test\\lib\\site-packages (from visdom>=0.1.8.8->-r requirements.txt (line 4)) (0.1.0)\n",
      "Requirement already satisfied: docker-pycreds>=0.4.0 in c:\\users\\bchat\\anaconda3\\envs\\cs236_project_test\\lib\\site-packages (from wandb->-r requirements.txt (line 5)) (0.4.0)\n",
      "Requirement already satisfied: psutil>=5.0.0 in c:\\users\\bchat\\anaconda3\\envs\\cs236_project_test\\lib\\site-packages (from wandb->-r requirements.txt (line 5)) (5.8.0)\n",
      "Requirement already satisfied: yaspin>=1.0.0 in c:\\users\\bchat\\anaconda3\\envs\\cs236_project_test\\lib\\site-packages (from wandb->-r requirements.txt (line 5)) (2.1.0)\n",
      "Requirement already satisfied: pathtools in c:\\users\\bchat\\anaconda3\\envs\\cs236_project_test\\lib\\site-packages (from wandb->-r requirements.txt (line 5)) (0.1.2)\n",
      "Requirement already satisfied: Click!=8.0.0,>=7.0 in c:\\users\\bchat\\anaconda3\\envs\\cs236_project_test\\lib\\site-packages (from wandb->-r requirements.txt (line 5)) (8.0.3)\n",
      "Requirement already satisfied: python-dateutil>=2.6.1 in c:\\users\\bchat\\anaconda3\\envs\\cs236_project_test\\lib\\site-packages (from wandb->-r requirements.txt (line 5)) (2.8.2)\n",
      "Requirement already satisfied: configparser>=3.8.1 in c:\\users\\bchat\\anaconda3\\envs\\cs236_project_test\\lib\\site-packages (from wandb->-r requirements.txt (line 5)) (5.1.0)\n",
      "Requirement already satisfied: subprocess32>=3.5.3 in c:\\users\\bchat\\anaconda3\\envs\\cs236_project_test\\lib\\site-packages (from wandb->-r requirements.txt (line 5)) (3.5.4)\n",
      "Requirement already satisfied: GitPython>=1.0.0 in c:\\users\\bchat\\anaconda3\\envs\\cs236_project_test\\lib\\site-packages (from wandb->-r requirements.txt (line 5)) (3.1.24)\n",
      "Requirement already satisfied: shortuuid>=0.5.0 in c:\\users\\bchat\\anaconda3\\envs\\cs236_project_test\\lib\\site-packages (from wandb->-r requirements.txt (line 5)) (1.0.8)\n",
      "Requirement already satisfied: sentry-sdk>=1.0.0 in c:\\users\\bchat\\anaconda3\\envs\\cs236_project_test\\lib\\site-packages (from wandb->-r requirements.txt (line 5)) (1.5.0)\n",
      "Requirement already satisfied: protobuf>=3.12.0 in c:\\users\\bchat\\anaconda3\\envs\\cs236_project_test\\lib\\site-packages (from wandb->-r requirements.txt (line 5)) (3.19.1)\n",
      "Requirement already satisfied: promise<3,>=2.0 in c:\\users\\bchat\\anaconda3\\envs\\cs236_project_test\\lib\\site-packages (from wandb->-r requirements.txt (line 5)) (2.3)\n",
      "Requirement already satisfied: PyYAML in c:\\users\\bchat\\anaconda3\\envs\\cs236_project_test\\lib\\site-packages (from wandb->-r requirements.txt (line 5)) (6.0)\n",
      "Requirement already satisfied: colorama in c:\\users\\bchat\\anaconda3\\envs\\cs236_project_test\\lib\\site-packages (from Click!=8.0.0,>=7.0->wandb->-r requirements.txt (line 5)) (0.4.4)\n",
      "Requirement already satisfied: gitdb<5,>=4.0.1 in c:\\users\\bchat\\anaconda3\\envs\\cs236_project_test\\lib\\site-packages (from GitPython>=1.0.0->wandb->-r requirements.txt (line 5)) (4.0.9)\n",
      "Requirement already satisfied: smmap<6,>=3.0.1 in c:\\users\\bchat\\anaconda3\\envs\\cs236_project_test\\lib\\site-packages (from gitdb<5,>=4.0.1->GitPython>=1.0.0->wandb->-r requirements.txt (line 5)) (5.0.0)\n",
      "Requirement already satisfied: idna<4,>=2.5 in c:\\users\\bchat\\anaconda3\\envs\\cs236_project_test\\lib\\site-packages (from requests->visdom>=0.1.8.8->-r requirements.txt (line 4)) (3.2)\n",
      "Requirement already satisfied: charset-normalizer~=2.0.0 in c:\\users\\bchat\\anaconda3\\envs\\cs236_project_test\\lib\\site-packages (from requests->visdom>=0.1.8.8->-r requirements.txt (line 4)) (2.0.4)\n",
      "Requirement already satisfied: urllib3<1.27,>=1.21.1 in c:\\users\\bchat\\anaconda3\\envs\\cs236_project_test\\lib\\site-packages (from requests->visdom>=0.1.8.8->-r requirements.txt (line 4)) (1.26.7)\n",
      "Requirement already satisfied: certifi>=2017.4.17 in c:\\users\\bchat\\anaconda3\\envs\\cs236_project_test\\lib\\site-packages (from requests->visdom>=0.1.8.8->-r requirements.txt (line 4)) (2021.10.8)\n",
      "Requirement already satisfied: termcolor<2.0.0,>=1.1.0 in c:\\users\\bchat\\anaconda3\\envs\\cs236_project_test\\lib\\site-packages (from yaspin>=1.0.0->wandb->-r requirements.txt (line 5)) (1.1.0)\n",
      "Requirement already satisfied: jsonpointer>=1.9 in c:\\users\\bchat\\anaconda3\\envs\\cs236_project_test\\lib\\site-packages (from jsonpatch->visdom>=0.1.8.8->-r requirements.txt (line 4)) (2.2)\n"
     ]
    }
   ],
   "source": [
    "!pip install -r requirements.txt"
   ]
  },
  {
   "cell_type": "markdown",
   "metadata": {
    "colab_type": "text",
    "id": "8daqlgVhw29P"
   },
   "source": [
    "# Datasets\n",
    "\n",
    "Download one of the official datasets with:\n",
    "\n",
    "-   `bash ./datasets/download_cyclegan_dataset.sh [apple2orange, summer2winter_yosemite, horse2zebra, monet2photo, cezanne2photo, ukiyoe2photo, vangogh2photo, maps, cityscapes, facades, iphone2dslr_flower, ae_photos]`\n",
    "\n",
    "Or use your own dataset by creating the appropriate folders and adding in the images.\n",
    "\n",
    "-   Create a dataset folder under `/dataset` for your dataset.\n",
    "-   Create subfolders `testA`, `testB`, `trainA`, and `trainB` under your dataset's folder. Place any images you want to transform from a to b (cat2dog) in the `testA` folder, images you want to transform from b to a (dog2cat) in the `testB` folder, and do the same for the `trainA` and `trainB` folders."
   ]
  },
  {
   "cell_type": "code",
   "execution_count": null,
   "metadata": {
    "colab": {},
    "colab_type": "code",
    "id": "vrdOettJxaCc"
   },
   "outputs": [],
   "source": [
    "!bash ./datasets/download_cyclegan_dataset.sh horse2zebra"
   ]
  },
  {
   "cell_type": "markdown",
   "metadata": {
    "colab_type": "text",
    "id": "gdUz4116xhpm"
   },
   "source": [
    "# Pretrained models\n",
    "\n",
    "Download one of the official pretrained models with:\n",
    "\n",
    "-   `bash ./scripts/download_cyclegan_model.sh [apple2orange, orange2apple, summer2winter_yosemite, winter2summer_yosemite, horse2zebra, zebra2horse, monet2photo, style_monet, style_cezanne, style_ukiyoe, style_vangogh, sat2map, map2sat, cityscapes_photo2label, cityscapes_label2photo, facades_photo2label, facades_label2photo, iphone2dslr_flower]`\n",
    "\n",
    "Or add your own pretrained model to `./checkpoints/{NAME}_pretrained/latest_net_G.pt`"
   ]
  },
  {
   "cell_type": "code",
   "execution_count": null,
   "metadata": {
    "colab": {},
    "colab_type": "code",
    "id": "B75UqtKhxznS"
   },
   "outputs": [],
   "source": [
    "!bash ./scripts/download_cyclegan_model.sh horse2zebra"
   ]
  },
  {
   "cell_type": "code",
   "execution_count": 2,
   "metadata": {},
   "outputs": [
    {
     "ename": "SyntaxError",
     "evalue": "invalid syntax (Temp/ipykernel_4584/4076239784.py, line 4)",
     "output_type": "error",
     "traceback": [
      "\u001b[1;36m  File \u001b[1;32m\"C:\\Users\\bchat\\AppData\\Local\\Temp/ipykernel_4584/4076239784.py\"\u001b[1;36m, line \u001b[1;32m4\u001b[0m\n\u001b[1;33m    http://localhost:8097\u001b[0m\n\u001b[1;37m         ^\u001b[0m\n\u001b[1;31mSyntaxError\u001b[0m\u001b[1;31m:\u001b[0m invalid syntax\n"
     ]
    }
   ],
   "source": [
    "# Start here\n",
    "# To view training results and loss plots, run python -m visdom.server and click the URL http://localhost:8097.\n",
    "# first \"python -m visdom.server\" on conda cmd window\n",
    "http://localhost:8097"
   ]
  },
  {
   "cell_type": "code",
   "execution_count": 1,
   "metadata": {},
   "outputs": [],
   "source": [
    "import visdom"
   ]
  },
  {
   "cell_type": "code",
   "execution_count": 2,
   "metadata": {},
   "outputs": [
    {
     "name": "stderr",
     "output_type": "stream",
     "text": [
      "wandb: Appending key for api.wandb.ai to your netrc file: C:\\Users\\bchat/.netrc\n"
     ]
    }
   ],
   "source": [
    "!wandb login 9e662fe57b66dc13ad4fe84fca5955dcd8849cd3"
   ]
  },
  {
   "cell_type": "markdown",
   "metadata": {
    "colab_type": "text",
    "id": "yFw1kDQBx3LN"
   },
   "source": [
    "# Training\n",
    "\n",
    "-   `python train.py --dataroot ./datasets/horse2zebra --name horse2zebra --model cycle_gan`\n",
    "\n",
    "Change the `--dataroot` and `--name` to your own dataset's path and model's name. Use `--gpu_ids 0,1,..` to train on multiple GPUs and `--batch_size` to change the batch size. I've found that a batch size of 16 fits onto 4 V100s and can finish training an epoch in ~90s.\n",
    "\n",
    "Once your model has trained, copy over the last checkpoint to a format that the testing model can automatically detect:\n",
    "\n",
    "Use `cp ./checkpoints/horse2zebra/latest_net_G_A.pth ./checkpoints/horse2zebra/latest_net_G.pth` if you want to transform images from class A to class B and `cp ./checkpoints/horse2zebra/latest_net_G_B.pth ./checkpoints/horse2zebra/latest_net_G.pth` if you want to transform images from class B to class A.\n"
   ]
  },
  {
   "cell_type": "code",
   "execution_count": 6,
   "metadata": {
    "colab": {},
    "colab_type": "code",
    "id": "0sp7TCT2x9dB"
   },
   "outputs": [
    {
     "name": "stdout",
     "output_type": "stream",
     "text": [
      "^C\n"
     ]
    }
   ],
   "source": [
    "# !python train.py --dataroot ./datasets/CGANV1 --name CGANV1_1R1T --model cycle_gan --use_wandb\n",
    "# !python train.py --dataroot ./datasets/CGAN_RADAR2RADAR --name CGANV2_RADAR2RADAR --model cycle_gan --use_wandb\n",
    "!python train.py --dataroot ./datasets/V2CYCLEGAN --name V2CYCLEGAN --model cycle_gan --use_wandb"
   ]
  },
  {
   "cell_type": "markdown",
   "metadata": {
    "colab_type": "text",
    "id": "9UkcaFZiyASl"
   },
   "source": [
    "# Testing\n",
    "\n",
    "-   `python test.py --dataroot datasets/horse2zebra/testA --name horse2zebra_pretrained --model test --no_dropout`\n",
    "\n",
    "Change the `--dataroot` and `--name` to be consistent with your trained model's configuration.\n",
    "\n",
    "> from https://github.com/junyanz/pytorch-CycleGAN-and-pix2pix:\n",
    "> The option --model test is used for generating results of CycleGAN only for one side. This option will automatically set --dataset_mode single, which only loads the images from one set. On the contrary, using --model cycle_gan requires loading and generating results in both directions, which is sometimes unnecessary. The results will be saved at ./results/. Use --results_dir {directory_path_to_save_result} to specify the results directory.\n",
    "\n",
    "> For your own experiments, you might want to specify --netG, --norm, --no_dropout to match the generator architecture of the trained model."
   ]
  },
  {
   "cell_type": "code",
   "execution_count": 7,
   "metadata": {
    "colab": {},
    "colab_type": "code",
    "id": "uCsKkEq0yGh0"
   },
   "outputs": [
    {
     "name": "stdout",
     "output_type": "stream",
     "text": [
      "----------------- Options ---------------\n",
      "             aspect_ratio: 1.0                           \n",
      "               batch_size: 1                             \n",
      "          checkpoints_dir: ./checkpoints                 \n",
      "                crop_size: 256                           \n",
      "                 dataroot: datasets/V2CYCLEGAN/testA     \t[default: None]\n",
      "             dataset_mode: single                        \n",
      "                direction: AtoB                          \n",
      "          display_winsize: 256                           \n",
      "                    epoch: latest                        \n",
      "                     eval: False                         \n",
      "                  gpu_ids: 0                             \n",
      "                init_gain: 0.02                          \n",
      "                init_type: normal                        \n",
      "                 input_nc: 3                             \n",
      "                  isTrain: False                         \t[default: None]\n",
      "                load_iter: 0                             \t[default: 0]\n",
      "                load_size: 256                           \n",
      "         max_dataset_size: inf                           \n",
      "                    model: test                          \n",
      "             model_suffix:                               \n",
      "               n_layers_D: 3                             \n",
      "                     name: V2CYCLEGAN_pretrained         \t[default: experiment_name]\n",
      "                      ndf: 64                            \n",
      "                     netD: basic                         \n",
      "                     netG: resnet_9blocks                \n",
      "                      ngf: 64                            \n",
      "               no_dropout: True                          \t[default: False]\n",
      "                  no_flip: False                         \n",
      "                     norm: instance                      \n",
      "                 num_test: 50                            \n",
      "              num_threads: 4                             \n",
      "                output_nc: 3                             \n",
      "                    phase: test                          \n",
      "               preprocess: resize_and_crop               \n",
      "              results_dir: ./results/                    \n",
      "           serial_batches: False                         \n",
      "                   suffix:                               \n",
      "                use_wandb: True                          \t[default: False]\n",
      "                  verbose: False                         \n",
      "----------------- End -------------------\n",
      "dataset [SingleDataset] was created\n",
      "initialize network with normal\n",
      "model [TestModel] was created\n",
      "loading the model from ./checkpoints\\V2CYCLEGAN_pretrained\\latest_net_G.pth\n",
      "---------- Networks initialized -------------\n",
      "[Network G] Total number of parameters : 11.378 M\n",
      "-----------------------------------------------\n",
      "\n",
      "creating web directory ./results/V2CYCLEGAN_pretrained\\test_latest\n",
      "processing (0000)-th image... ['datasets/V2CYCLEGAN/testA\\\\S101.png']\n",
      "processing (0005)-th image... ['datasets/V2CYCLEGAN/testA\\\\S106.png']\n",
      "processing (0010)-th image... ['datasets/V2CYCLEGAN/testA\\\\S201.png']\n",
      "processing (0015)-th image... ['datasets/V2CYCLEGAN/testA\\\\S206.png']\n",
      "processing (0020)-th image... ['datasets/V2CYCLEGAN/testA\\\\S401.png']\n",
      "processing (0025)-th image... ['datasets/V2CYCLEGAN/testA\\\\S406.png']\n",
      "processing (0030)-th image... ['datasets/V2CYCLEGAN/testA\\\\S601.png']\n",
      "processing (0035)-th image... ['datasets/V2CYCLEGAN/testA\\\\S606.png']\n",
      "processing (0040)-th image... ['datasets/V2CYCLEGAN/testA\\\\S801.png']\n",
      "processing (0045)-th image... ['datasets/V2CYCLEGAN/testA\\\\S806.png']\n",
      "\n"
     ]
    },
    {
     "name": "stderr",
     "output_type": "stream",
     "text": [
      "C:\\Users\\bchat\\anaconda3\\envs\\CS236_PROJECT_TEST\\lib\\site-packages\\torchvision\\transforms\\transforms.py:287: UserWarning: Argument interpolation should be of type InterpolationMode instead of int. Please, use InterpolationMode enum.\n",
      "  warnings.warn(\n",
      "wandb: Currently logged in as: bchattaraj (use `wandb login --relogin` to force relogin)\n",
      "wandb: Tracking run with wandb version 0.12.7\n",
      "wandb: Syncing run V2CYCLEGAN_pretrained\n",
      "wandb:  View project at https://wandb.ai/bchattaraj/CycleGAN-and-pix2pix\n",
      "wandb:  View run at https://wandb.ai/bchattaraj/CycleGAN-and-pix2pix/runs/1dapzo43\n",
      "wandb: Run data is saved locally in C:\\Users\\bchat\\pytorch-CycleGAN-and-pix2pix\\wandb\\run-20211206_071907-1dapzo43\n",
      "wandb: Run `wandb offline` to turn off syncing.\n",
      "wandb: Waiting for W&B process to finish, PID 11460... (success).\n",
      "wandb: - 8.75MB of 12.49MB uploaded (0.00MB deduped)\n",
      "wandb: \\ 8.97MB of 12.49MB uploaded (0.00MB deduped)\n",
      "wandb: | 10.08MB of 12.50MB uploaded (0.00MB deduped)\n",
      "wandb: / 10.25MB of 12.50MB uploaded (0.00MB deduped)\n",
      "wandb: - 10.37MB of 12.50MB uploaded (0.00MB deduped)\n",
      "wandb: \\ 10.40MB of 12.50MB uploaded (0.00MB deduped)\n",
      "wandb: | 10.56MB of 12.50MB uploaded (0.00MB deduped)\n",
      "wandb: / 10.69MB of 12.50MB uploaded (0.00MB deduped)\n",
      "wandb: - 10.73MB of 12.50MB uploaded (0.00MB deduped)\n",
      "wandb: \\ 10.83MB of 12.50MB uploaded (0.00MB deduped)\n",
      "wandb: | 11.08MB of 12.50MB uploaded (0.00MB deduped)\n",
      "wandb: / 11.15MB of 12.50MB uploaded (0.00MB deduped)\n",
      "wandb: - 11.29MB of 12.50MB uploaded (0.00MB deduped)\n",
      "wandb: \\ 11.33MB of 12.50MB uploaded (0.00MB deduped)\n",
      "wandb: | 11.40MB of 12.50MB uploaded (0.00MB deduped)\n",
      "wandb: / 11.44MB of 12.50MB uploaded (0.00MB deduped)\n",
      "wandb: - 11.68MB of 12.50MB uploaded (0.00MB deduped)\n",
      "wandb: \\ 11.82MB of 12.50MB uploaded (0.00MB deduped)\n",
      "wandb: | 12.01MB of 12.50MB uploaded (0.00MB deduped)\n",
      "wandb: / 12.06MB of 12.50MB uploaded (0.00MB deduped)\n",
      "wandb: - 12.09MB of 12.50MB uploaded (0.00MB deduped)\n",
      "wandb: \\ 12.15MB of 12.50MB uploaded (0.00MB deduped)\n",
      "wandb: | 12.22MB of 12.50MB uploaded (0.00MB deduped)\n",
      "wandb: / 12.26MB of 12.50MB uploaded (0.00MB deduped)\n",
      "wandb: - 12.31MB of 12.50MB uploaded (0.00MB deduped)\n",
      "wandb: \\ 12.39MB of 12.50MB uploaded (0.00MB deduped)\n",
      "wandb: | 12.40MB of 12.50MB uploaded (0.00MB deduped)\n",
      "wandb: / 12.41MB of 12.50MB uploaded (0.00MB deduped)\n",
      "wandb: - 12.35MB of 12.50MB uploaded (0.00MB deduped)\n",
      "wandb: \\ 12.39MB of 12.50MB uploaded (0.00MB deduped)\n",
      "wandb: | 12.40MB of 12.50MB uploaded (0.00MB deduped)\n",
      "wandb: / 12.41MB of 12.50MB uploaded (0.00MB deduped)\n",
      "wandb: - 12.45MB of 12.50MB uploaded (0.00MB deduped)\n",
      "wandb: \\ 12.47MB of 12.50MB uploaded (0.00MB deduped)\n",
      "wandb: | 12.49MB of 12.50MB uploaded (0.00MB deduped)\n",
      "wandb: / 12.49MB of 12.50MB uploaded (0.00MB deduped)\n",
      "wandb: - 12.49MB of 12.50MB uploaded (0.00MB deduped)\n",
      "wandb: \\ 12.50MB of 12.50MB uploaded (0.00MB deduped)\n",
      "wandb: | 12.50MB of 12.50MB uploaded (0.00MB deduped)\n",
      "wandb: / 12.50MB of 12.50MB uploaded (0.00MB deduped)\n",
      "wandb: - 12.50MB of 12.50MB uploaded (0.00MB deduped)\n",
      "wandb: \\ 12.50MB of 12.50MB uploaded (0.00MB deduped)\n",
      "wandb: | 12.50MB of 12.50MB uploaded (0.00MB deduped)\n",
      "wandb: / 12.50MB of 12.50MB uploaded (0.00MB deduped)\n",
      "wandb: - 12.50MB of 12.50MB uploaded (0.00MB deduped)\n",
      "wandb:                                                                                \n",
      "wandb: Synced 6 W&B file(s), 100 media file(s), 0 artifact file(s) and 0 other file(s)\n",
      "wandb: Synced V2CYCLEGAN_pretrained: https://wandb.ai/bchattaraj/CycleGAN-and-pix2pix/runs/1dapzo43\n",
      "wandb: Find logs at: .\\wandb\\run-20211206_071907-1dapzo43\\logs\\debug.log\n",
      "wandb: \n"
     ]
    }
   ],
   "source": [
    "# !python test.py --dataroot datasets/CGANV1/testA --name CGANV1_pretrained --model test --no_dropout --use_wandb\n",
    "# !python test.py --dataroot datasets/CGANV1/testB --name CGANV1_pretrained --model test --no_dropout --use_wandb\n",
    "# !python test.py --dataroot datasets/CGAN_RADAR2RADAR/testA --name CGANV2_RADAR2RADAR_pretrained --model test --no_dropout --use_wandb\n",
    "!python test.py --dataroot datasets/V2CYCLEGAN/testA --name V2CYCLEGAN_pretrained --model test --no_dropout --use_wandb"
   ]
  },
  {
   "cell_type": "markdown",
   "metadata": {
    "colab_type": "text",
    "id": "OzSKIPUByfiN"
   },
   "source": [
    "# Visualize"
   ]
  },
  {
   "cell_type": "code",
   "execution_count": null,
   "metadata": {
    "colab": {},
    "colab_type": "code",
    "id": "9Mgg8raPyizq"
   },
   "outputs": [],
   "source": []
  },
  {
   "cell_type": "code",
   "execution_count": null,
   "metadata": {
    "colab": {},
    "colab_type": "code",
    "id": "0G3oVH9DyqLQ"
   },
   "outputs": [],
   "source": []
  }
 ],
 "metadata": {
  "accelerator": "GPU",
  "colab": {
   "collapsed_sections": [],
   "include_colab_link": true,
   "name": "CycleGAN",
   "provenance": []
  },
  "environment": {
   "name": "tf2-gpu.2-3.m74",
   "type": "gcloud",
   "uri": "gcr.io/deeplearning-platform-release/tf2-gpu.2-3:m74"
  },
  "kernelspec": {
   "display_name": "Python 3 (ipykernel)",
   "language": "python",
   "name": "python3"
  },
  "language_info": {
   "codemirror_mode": {
    "name": "ipython",
    "version": 3
   },
   "file_extension": ".py",
   "mimetype": "text/x-python",
   "name": "python",
   "nbconvert_exporter": "python",
   "pygments_lexer": "ipython3",
   "version": "3.8.12"
  }
 },
 "nbformat": 4,
 "nbformat_minor": 4
}
